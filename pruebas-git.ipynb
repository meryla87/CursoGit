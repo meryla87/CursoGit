{
 "cells": [
  {
   "cell_type": "code",
   "execution_count": 1,
   "id": "2c910f7a",
   "metadata": {},
   "outputs": [
    {
     "name": "stdout",
     "output_type": "stream",
     "text": [
      "hola mundo\n"
     ]
    }
   ],
   "source": [
    "print('hola mundo')"
   ]
  },
  {
   "cell_type": "code",
   "execution_count": 4,
   "id": "c32f4b5d",
   "metadata": {},
   "outputs": [
    {
     "name": "stdout",
     "output_type": "stream",
     "text": [
      "h\n",
      "o\n",
      "l\n",
      "a\n",
      " \n",
      "m\n",
      "u\n",
      "n\n",
      "d\n",
      "o\n"
     ]
    }
   ],
   "source": [
    "for i in 'hola mundo':\n",
    "    print(i)"
   ]
  },
  {
   "cell_type": "code",
   "execution_count": 5,
   "id": "a675f004",
   "metadata": {},
   "outputs": [],
   "source": [
    "import pandas as pd\n",
    "import numpy as np"
   ]
  },
  {
   "cell_type": "code",
   "execution_count": 22,
   "id": "4fb82567",
   "metadata": {},
   "outputs": [
    {
     "data": {
      "text/html": [
       "<div>\n",
       "<style scoped>\n",
       "    .dataframe tbody tr th:only-of-type {\n",
       "        vertical-align: middle;\n",
       "    }\n",
       "\n",
       "    .dataframe tbody tr th {\n",
       "        vertical-align: top;\n",
       "    }\n",
       "\n",
       "    .dataframe thead th {\n",
       "        text-align: right;\n",
       "    }\n",
       "</style>\n",
       "<table border=\"1\" class=\"dataframe\">\n",
       "  <thead>\n",
       "    <tr style=\"text-align: right;\">\n",
       "      <th></th>\n",
       "      <th>num</th>\n",
       "    </tr>\n",
       "  </thead>\n",
       "  <tbody>\n",
       "    <tr>\n",
       "      <th>0</th>\n",
       "      <td>2</td>\n",
       "    </tr>\n",
       "    <tr>\n",
       "      <th>1</th>\n",
       "      <td>3</td>\n",
       "    </tr>\n",
       "    <tr>\n",
       "      <th>2</th>\n",
       "      <td>5</td>\n",
       "    </tr>\n",
       "    <tr>\n",
       "      <th>3</th>\n",
       "      <td>7</td>\n",
       "    </tr>\n",
       "    <tr>\n",
       "      <th>4</th>\n",
       "      <td>67</td>\n",
       "    </tr>\n",
       "    <tr>\n",
       "      <th>5</th>\n",
       "      <td>8</td>\n",
       "    </tr>\n",
       "    <tr>\n",
       "      <th>6</th>\n",
       "      <td>9</td>\n",
       "    </tr>\n",
       "  </tbody>\n",
       "</table>\n",
       "</div>"
      ],
      "text/plain": [
       "   num\n",
       "0    2\n",
       "1    3\n",
       "2    5\n",
       "3    7\n",
       "4   67\n",
       "5    8\n",
       "6    9"
      ]
     },
     "execution_count": 22,
     "metadata": {},
     "output_type": "execute_result"
    }
   ],
   "source": [
    "a = np.array([2,3,5,7,67,8,9])\n",
    "data = pd.DataFrame(a, columns=['num'])\n",
    "data"
   ]
  },
  {
   "cell_type": "code",
   "execution_count": 23,
   "id": "0840b3db",
   "metadata": {},
   "outputs": [
    {
     "data": {
      "text/html": [
       "<div>\n",
       "<style scoped>\n",
       "    .dataframe tbody tr th:only-of-type {\n",
       "        vertical-align: middle;\n",
       "    }\n",
       "\n",
       "    .dataframe tbody tr th {\n",
       "        vertical-align: top;\n",
       "    }\n",
       "\n",
       "    .dataframe thead th {\n",
       "        text-align: right;\n",
       "    }\n",
       "</style>\n",
       "<table border=\"1\" class=\"dataframe\">\n",
       "  <thead>\n",
       "    <tr style=\"text-align: right;\">\n",
       "      <th></th>\n",
       "      <th>num_2</th>\n",
       "    </tr>\n",
       "  </thead>\n",
       "  <tbody>\n",
       "    <tr>\n",
       "      <th>0</th>\n",
       "      <td>123</td>\n",
       "    </tr>\n",
       "    <tr>\n",
       "      <th>1</th>\n",
       "      <td>234</td>\n",
       "    </tr>\n",
       "    <tr>\n",
       "      <th>2</th>\n",
       "      <td>345</td>\n",
       "    </tr>\n",
       "    <tr>\n",
       "      <th>3</th>\n",
       "      <td>456</td>\n",
       "    </tr>\n",
       "    <tr>\n",
       "      <th>4</th>\n",
       "      <td>7</td>\n",
       "    </tr>\n",
       "    <tr>\n",
       "      <th>5</th>\n",
       "      <td>9</td>\n",
       "    </tr>\n",
       "    <tr>\n",
       "      <th>6</th>\n",
       "      <td>0</td>\n",
       "    </tr>\n",
       "  </tbody>\n",
       "</table>\n",
       "</div>"
      ],
      "text/plain": [
       "   num_2\n",
       "0    123\n",
       "1    234\n",
       "2    345\n",
       "3    456\n",
       "4      7\n",
       "5      9\n",
       "6      0"
      ]
     },
     "execution_count": 23,
     "metadata": {},
     "output_type": "execute_result"
    }
   ],
   // Ahora voy a concatenar ambos data que cree
   "source": [
    "b = np.array([123,234,345,456,7,9,0])\n",
    "data_2 =pd.DataFrame(b, columns=['num_2'])\n",
    "data_2"
   ]
  },
  {
   "cell_type": "code",
   "execution_count": 27,
   "id": "7316e4aa",
   "metadata": {},
   "outputs": [
    {
     "data": {
      "text/html": [
       "<div>\n",
       "<style scoped>\n",
       "    .dataframe tbody tr th:only-of-type {\n",
       "        vertical-align: middle;\n",
       "    }\n",
       "\n",
       "    .dataframe tbody tr th {\n",
       "        vertical-align: top;\n",
       "    }\n",
       "\n",
       "    .dataframe thead th {\n",
       "        text-align: right;\n",
       "    }\n",
       "</style>\n",
       "<table border=\"1\" class=\"dataframe\">\n",
       "  <thead>\n",
       "    <tr style=\"text-align: right;\">\n",
       "      <th></th>\n",
       "      <th>num</th>\n",
       "      <th>num_2</th>\n",
       "    </tr>\n",
       "  </thead>\n",
       "  <tbody>\n",
       "    <tr>\n",
       "      <th>0</th>\n",
       "      <td>2</td>\n",
       "      <td>123</td>\n",
       "    </tr>\n",
       "    <tr>\n",
       "      <th>1</th>\n",
       "      <td>3</td>\n",
       "      <td>234</td>\n",
       "    </tr>\n",
       "    <tr>\n",
       "      <th>2</th>\n",
       "      <td>5</td>\n",
       "      <td>345</td>\n",
       "    </tr>\n",
       "    <tr>\n",
       "      <th>3</th>\n",
       "      <td>7</td>\n",
       "      <td>456</td>\n",
       "    </tr>\n",
       "    <tr>\n",
       "      <th>4</th>\n",
       "      <td>67</td>\n",
       "      <td>7</td>\n",
       "    </tr>\n",
       "    <tr>\n",
       "      <th>5</th>\n",
       "      <td>8</td>\n",
       "      <td>9</td>\n",
       "    </tr>\n",
       "    <tr>\n",
       "      <th>6</th>\n",
       "      <td>9</td>\n",
       "      <td>0</td>\n",
       "    </tr>\n",
       "  </tbody>\n",
       "</table>\n",
       "</div>"
      ],
      "text/plain": [
       "   num  num_2\n",
       "0    2    123\n",
       "1    3    234\n",
       "2    5    345\n",
       "3    7    456\n",
       "4   67      7\n",
       "5    8      9\n",
       "6    9      0"
      ]
     },
     "execution_count": 27,
     "metadata": {},
     "output_type": "execute_result"
    }
   ],
   "source": [
    "pd.concat([data, data_2], axis=1)"
   ]
  },
  {
   "cell_type": "code",
   "execution_count": 28,
   "id": "59cb6951",
   "metadata": {},
   "outputs": [],
   "source": [
    "import matplotlib.pyplot as plt"
   ]
  },
  {
   "cell_type": "code",
   "execution_count": 30,
   "id": "b2b90f2c",
   "metadata": {},
   "outputs": [
    {
     "data": {
      "text/plain": [
       "<matplotlib.collections.PathCollection at 0x7f6a2103c220>"
      ]
     },
     "execution_count": 30,
     "metadata": {},
     "output_type": "execute_result"
    },
    {
     "data": {
      "image/png": "iVBORw0KGgoAAAANSUhEUgAAAXwAAAD4CAYAAADvsV2wAAAAOXRFWHRTb2Z0d2FyZQBNYXRwbG90bGliIHZlcnNpb24zLjQuMiwgaHR0cHM6Ly9tYXRwbG90bGliLm9yZy8rg+JYAAAACXBIWXMAAAsTAAALEwEAmpwYAAAQsElEQVR4nO3df2xdd3nH8feDY8ArU90fVtU4QclEZVRpo+mirqhoYq2Y2w7RaAJUhkaEIuWfTioCmcWbtAlp0oosUUCakCLKCBOisJKlVanwurRo2iTKXFyatplXw1o1TtsYqMsGBpLw7I/7dXAyp77XP3Lv9ff9kq7uOc/5Xt/nRicfn/s95/pGZiJJ2vhe1+4GJEkXhoEvSZUw8CWpEga+JFXCwJekSmxqdwMAl19+eW7btq3dbUhSV3n88cd/mJkDzY7viMDftm0bExMT7W5DkrpKRDzfynindCSpEga+JFXCwJekShj4klQJA1+SKtERV+l0okOTM4yNT3F8bp7N/X2MDA+xa8dgu9uSpBUz8JdwaHKG0YNHmD95GoCZuXlGDx4BMPQldS2ndJYwNj51JuwXzJ88zdj4VJs6kqTVM/CXcHxuvqW6JHUDA38Jm/v7WqpLUjcw8JcwMjxEX2/PWbW+3h5Ghofa1JEkrZ4nbZewcGLWq3QkbSQG/nns2jFowEvaUJzSkaRKGPiSVAkDX5IqYeBLUiUMfEmqhIEvSZUw8CWpEga+JFXCwJekShj4klQJA1+SKmHgS1IlDHxJqoSBL0mVMPAlqRIGviRVounAj4ieiJiMiAfL+vaIeCwipiPiqxHx+lJ/Q1mfLtu3rVPvkqQWtHKEfydwdNH6J4G7M/MtwCvAnlLfA7xS6neXcZKkNmsq8CNiC/BHwOfLegA3AveVIQeAXWX5trJO2X5TGS9JaqNmj/A/DXwc+FVZvwyYy8xTZf0YsPAFsIPACwBl+6tlvCSpjZYN/Ih4N3AiMx9fyyeOiL0RMRERE7Ozs2v5oyVJS2jmCP8G4D0R8RxwL42pnM8A/RGxqYzZAsyU5RlgK0DZfjHwo3N/aGbuz8ydmblzYGBgVS9CkrS8ZQM/M0czc0tmbgNuBx7JzA8CjwLvLcN2A/eX5QfKOmX7I5mZa9q1JKllq7kO/8+Bj0bENI05+ntK/R7gslL/KLBvdS1KktbCpuWH/Fpmfgv4Vln+AXDdEmN+DrxvDXqTJK0hP2krSZUw8CWpEga+JFXCwJekShj4klQJA1+SKmHgS1IlDHxJqoSBL0mVMPAlqRIGviRVwsCXpEoY+JJUCQNfkiph4EtSJVr6e/gbwaHJGcbGpzg+N8/m/j5GhofYtWNw+QdKUperKvAPTc4wevAI8ydPAzAzN8/owSMAhr6kDa+qKZ2x8akzYb9g/uRpxsan2tSRJF04VQX+8bn5luqStJFUFfib+/taqkvSRlJV4I8MD9HX23NWra+3h5HhoTZ1JEkXTlUnbRdOzHqVjqQaVRX40Ah9A15Sjaqa0pGkmhn4klQJA1+SKmHgS1IlDHxJqoSBL0mVMPAlqRIGviRVwsCXpEoY+JJUCQNfkiph4EtSJZYN/Ih4Y0R8JyK+FxFPR8QnSn17RDwWEdMR8dWIeH2pv6GsT5ft29b5NUiSmtDMEf4vgBsz823ANcDNEXE98Eng7sx8C/AKsKeM3wO8Uup3l3GSpDZbNvCz4X/Lam+5JXAjcF+pHwB2leXbyjpl+00REWvVsCRpZZqaw4+Inoh4AjgBPAx8H5jLzFNlyDFg4Y/MDwIvAJTtrwKXLfEz90bERERMzM7OrupFSJKW11TgZ+bpzLwG2AJcB7x1tU+cmfszc2dm7hwYGFjtj5MkLaOlq3Qycw54FHg70B8RC9+YtQWYKcszwFaAsv1i4Edr0awkaeWauUpnICL6y3If8C7gKI3gf28Zthu4vyw/UNYp2x/JzFzDniVJK9DMd9peCRyIiB4avyC+lpkPRsQzwL0R8TfAJHBPGX8P8A8RMQ38GLh9HfqWJLVo2cDPzCeBHUvUf0BjPv/c+s+B961Jd5KkNeMnbSWpEga+JFXCwJekShj4klQJA1+SKmHgS1IlDHxJqoSBL0mVMPAlqRIGviRVwsCXpEoY+JJUCQNfkiph4EtSJQx8SaqEgS9JlTDwJakSBr4kVcLAl6RKNPMl5l3j0OQMY+NTHJ+bZ3N/HyPDQ+zaMdjutiSpI2yYwD80OcPowSPMnzwNwMzcPKMHjwAY+pLEBprSGRufOhP2C+ZPnmZsfKpNHUlSZ9kwgX98br6luiTVZsME/ub+vpbqklSbDRP4I8ND9PX2nFXr6+1hZHioTR1JUmfZMCdtF07MepWOJC1twwQ+NELfgJekpW2YKR1J0msz8CWpEga+JFXCwJekShj4klQJA1+SKmHgS1Illg38iNgaEY9GxDMR8XRE3Fnql0bEwxHxbLm/pNQjIj4bEdMR8WREXLveL0KStLxmjvBPAR/LzKuB64E7IuJqYB9wODOvAg6XdYBbgKvKbS/wuTXvWpLUsmUDPzNfzMzvluX/AY4Cg8BtwIEy7ACwqyzfBnwpG74N9EfElWvduCSpNS3N4UfENmAH8BhwRWa+WDa9BFxRlgeBFxY97Fipnfuz9kbERERMzM7Ottq3JKlFTQd+RLwJ+Drwkcz8yeJtmZlAtvLEmbk/M3dm5s6BgYFWHipJWoGmAj8iemmE/Zcz82Apv7wwVVPuT5T6DLB10cO3lJokqY2auUongHuAo5n5qUWbHgB2l+XdwP2L6h8qV+tcD7y6aOpHktQmzfx55BuAPwWORMQTpfYXwF3A1yJiD/A88P6y7SHgVmAa+Bnw4bVsWJK0MssGfmb+GxDn2XzTEuMTuGOVfUmS1piftJWkShj4klQJA1+SKmHgS1IlDHxJqoSBL0mVMPAlqRIGviRVwsCXpEoY+JJUCQNfkiph4EtSJQx8SaqEgS9JlTDwJakSBr4kVcLAl6RKGPiSVAkDX5IqYeBLUiUMfEmqhIEvSZUw8CWpEga+JFXCwJekSmxqdwMrdWhyhrHxKY7PzbO5v4+R4SF27Rhsd1uS1LG6MvAPTc4wevAI8ydPAzAzN8/owSMAhr4knUdXTumMjU+dCfsF8ydPMzY+1aaOJKnzdWXgH5+bb6kuSerSwN/c39dSXZLUpYE/MjxEX2/PWbW+3h5Ghofa1JEkdb6uPGm7cGLWq3QkqXldGfjQCH0DXpKa15VTOpKk1i0b+BHxhYg4ERFPLapdGhEPR8Sz5f6SUo+I+GxETEfEkxFx7Xo2L0lqXjNH+F8Ebj6ntg84nJlXAYfLOsAtwFXlthf43Nq0KUlarWUDPzP/FfjxOeXbgANl+QCwa1H9S9nwbaA/Iq5co14lSauw0jn8KzLzxbL8EnBFWR4EXlg07lipSZLabNUnbTMzgWz1cRGxNyImImJidnZ2tW1Ikpax0sB/eWGqptyfKPUZYOuicVtK7f/JzP2ZuTMzdw4MDKywDUlSs1Ya+A8Au8vybuD+RfUPlat1rgdeXTT1I0lqo2U/eBURXwHeCVweEceAvwbuAr4WEXuA54H3l+EPAbcC08DPgA+vQ8+SpBVYNvAz8wPn2XTTEmMTuGO1TUmS1p6ftJWkShj4klQJA1+SKmHgS1IlDHxJqoSBL0mVMPAlqRIGviRVwsCXpEoY+JJUCQNfkiph4EtSJQx8SaqEgS9JlTDwJakSBr4kVcLAl6RKGPiSVAkDX5IqYeBLUiUMfEmqhIEvSZUw8CWpEga+JFXCwJekShj4klQJA1+SKmHgS1IlDHxJqoSBL0mVMPAlqRKb2t1Atzg0OcPY+BTH5+bZ3N/HyPAQu3YMtrstSWqagd+EQ5MzjB48wvzJ0wDMzM0zevAIgKEvaUXacRDplE4TxsanzoT9gvmTpxkbn2pTR5K62cJB5MzcPMmvDyIPTc6s6/Ma+E04PjffUl2SXku7DiLXJfAj4uaImIqI6YjYtx7PcSFt7u9bsn5xXy833PUI2/d9gxvuemTdfztL2hjadRC55oEfET3A3wG3AFcDH4iIq9f6eS6kkeEh+np7zqr1vi746S9PXfC3ZJK63/kOIs9XXyvrcYR/HTCdmT/IzF8C9wK3rcPzXDC7dgzyt3/82wz29xHAYH8fb3rjJk6ezrPGOa8vqRlLHUT29fYwMjy0rs+7HlfpDAIvLFo/BvzeuYMiYi+wF+DNb37zOrSxtnbtGDzrDPr2fd9Ycpzz+pKWs5AlF/oqnbZdlpmZ+4H9ADt37sxlhneczf19zCwR7uv9lkzSxnDuQeSFsB5TOjPA1kXrW0ptQ2nXWzJJWqn1OML/D+CqiNhOI+hvB/5kHZ6nrdr1lkySVmrNAz8zT0XEnwHjQA/whcx8eq2fpxO04y2ZJK3UuszhZ+ZDwEPr8bMlSSvjJ20lqRIGviRVwsCXpEoY+JJUichs/2eeImIWeH6JTZcDP7zA7awVe7/wurVvsPd26fbeL8rMgWYf0BGBfz4RMZGZO9vdx0rY+4XXrX2DvbdLbb07pSNJlTDwJakSnR74+9vdwCrY+4XXrX2DvbdLVb139By+JGntdPoRviRpjRj4klSJjgz8bvsS9Ij4QkSciIinFtUujYiHI+LZcn9JO3tcSkRsjYhHI+KZiHg6Iu4s9W7o/Y0R8Z2I+F7p/ROlvj0iHiv7zlcj4vXt7nUpEdETEZMR8WBZ74q+ASLiuYg4EhFPRMREqXXDPtMfEfdFxH9GxNGIeHuX9D1U/q0Xbj+JiI+spPeOC/wu/RL0LwI3n1PbBxzOzKuAw2W905wCPpaZVwPXA3eUf+tu6P0XwI2Z+TbgGuDmiLge+CRwd2a+BXgF2NO+Fl/TncDRRevd0veCP8jMaxZdB94N+8xngG9m5luBt9H49+/4vjNzqvxbXwP8LvAz4J9YSe+Z2VE34O3A+KL1UWC03X010fc24KlF61PAlWX5SmCq3T028RruB97Vbb0DvwF8l8Z3J/8Q2LTUvtQpNxrfAncYuBF4EIhu6HtR/88Bl59T6+h9BrgY+G/KhSrd0vcSr+MPgX9fae8dd4TP0l+C3o3fMnJFZr5Yll8CrmhnM8uJiG3ADuAxuqT3Mi3yBHACeBj4PjCXmafKkE7ddz4NfBz4VVm/jO7oe0EC/xwRj0fE3lLr9H1mOzAL/H2ZSvt8RFxE5/d9rtuBr5TllnvvxMDfcLLxK7hjr3+NiDcBXwc+kpk/Wbytk3vPzNPZeJu7BbgOeGt7O1peRLwbOJGZj7e7l1V4R2ZeS2Pa9Y6I+P3FGzt0n9kEXAt8LjN3AD/lnCmQDu37jHJe5z3AP567rdneOzHwN8qXoL8cEVcClPsTbe5nSRHRSyPsv5yZB0u5K3pfkJlzwKM0pkL6I2Lhm9w6cd+5AXhPRDwH3EtjWuczdH7fZ2TmTLk/QWMu+To6f585BhzLzMfK+n00fgF0et+L3QJ8NzNfLust996JgX/mS9DLb7TbgQfa3NNKPADsLsu7acyPd5SICOAe4GhmfmrRpm7ofSAi+styH41zD0dpBP97y7CO6z0zRzNzS2Zuo7FvP5KZH6TD+14QERdFxG8uLNOYU36KDt9nMvMl4IWIGCqlm4Bn6PC+z/EBfj2dAyvpvd0nIc5zYuJW4L9ozMn+Zbv7aaLfrwAvAidpHEnsoTEvexh4FvgX4NJ297lE3++g8TbwSeCJcru1S3r/HWCy9P4U8Fel/lvAd4BpGm9939DuXl/jNbwTeLCb+i59fq/cnl74/9kl+8w1wETZZw4Bl3RD36X3i4AfARcvqrXcu39aQZIq0YlTOpKkdWDgS1IlDHxJqoSBL0mVMPAlqRIGviRVwsCXpEr8Hxu8WhlEa0VcAAAAAElFTkSuQmCC\n",
      "text/plain": [
       "<Figure size 432x288 with 1 Axes>"
      ]
     },
     "metadata": {
      "needs_background": "light"
     },
     "output_type": "display_data"
    }
   ],
   "source": [
    "plt.scatter(data,data_2)"
   ]
  },
  {
   "cell_type": "code",
   "execution_count": null,
   "id": "513f7ed8",
   "metadata": {},
   "outputs": [],
   "source": []
  }
 ],
 "metadata": {
  "kernelspec": {
   "display_name": "Python 3 (ipykernel)",
   "language": "python",
   "name": "python3"
  },
  "language_info": {
   "codemirror_mode": {
    "name": "ipython",
    "version": 3
   },
   "file_extension": ".py",
   "mimetype": "text/x-python",
   "name": "python",
   "nbconvert_exporter": "python",
   "pygments_lexer": "ipython3",
   "version": "3.8.8"
  }
 },
 "nbformat": 4,
 "nbformat_minor": 5
}
